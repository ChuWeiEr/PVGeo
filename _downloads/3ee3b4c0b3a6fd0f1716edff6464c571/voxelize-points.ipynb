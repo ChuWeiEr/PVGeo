{
  "cells": [
    {
      "cell_type": "code",
      "execution_count": null,
      "metadata": {
        "collapsed": false
      },
      "outputs": [],
      "source": [
        "%matplotlib inline"
      ]
    },
    {
      "cell_type": "markdown",
      "metadata": {},
      "source": [
        "\nVoxelize Points\n~~~~~~~~~~~~~~~\n\nThis example will demonstrate how to connect a set of points defined on a\nregular grid to create a `vtkUnstructuredGrid` which can be used to perform\nvolumetric operations.\n\n\nThis example demos :class:`PVGeo.filters.VoxelizePoints`\n"
      ]
    },
    {
      "cell_type": "code",
      "execution_count": null,
      "metadata": {
        "collapsed": false
      },
      "outputs": [],
      "source": [
        "# sphinx_gallery_thumbnail_number = 2\nimport vtki\nimport numpy as np\nimport PVGeo\nfrom PVGeo.filters import VoxelizePoints"
      ]
    },
    {
      "cell_type": "markdown",
      "metadata": {},
      "source": [
        "Make a mesh grid\n\n"
      ]
    },
    {
      "cell_type": "code",
      "execution_count": null,
      "metadata": {
        "collapsed": false
      },
      "outputs": [],
      "source": [
        "dd = 10\nx = y = z = np.arange(0, 100, dd)\nxx, yy, zz = np.meshgrid(x, y, z)\npoints = vtki.PolyData(np.c_[xx.ravel(), yy.ravel(), zz.ravel()])\n# points.rotate_z(25.) # TODO: angle recovery isn't working for this dataset\n\nrand = np.random.random(points.n_points)\npoints['Random'] = rand\n\npoints.plot(show_grid=True)"
      ]
    },
    {
      "cell_type": "markdown",
      "metadata": {},
      "source": [
        "Use the filter\n\n"
      ]
    },
    {
      "cell_type": "code",
      "execution_count": null,
      "metadata": {
        "collapsed": false
      },
      "outputs": [],
      "source": [
        "# Instantiate the algorithm\nv = VoxelizePoints()\nv.set_estimate_grid(True)"
      ]
    },
    {
      "cell_type": "code",
      "execution_count": null,
      "metadata": {
        "collapsed": false
      },
      "outputs": [],
      "source": [
        "recovered = v.apply(points)\nprint('Recovered rotation angle: {}'.format(v.get_recovered_angle()))\nrecovered.plot()"
      ]
    }
  ],
  "metadata": {
    "kernelspec": {
      "display_name": "Python 3",
      "language": "python",
      "name": "python3"
    },
    "language_info": {
      "codemirror_mode": {
        "name": "ipython",
        "version": 3
      },
      "file_extension": ".py",
      "mimetype": "text/x-python",
      "name": "python",
      "nbconvert_exporter": "python",
      "pygments_lexer": "ipython3",
      "version": "3.7.1"
    }
  },
  "nbformat": 4,
  "nbformat_minor": 0
}
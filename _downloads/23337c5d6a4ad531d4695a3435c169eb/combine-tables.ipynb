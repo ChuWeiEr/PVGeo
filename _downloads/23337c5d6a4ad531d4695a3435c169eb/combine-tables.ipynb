{
  "cells": [
    {
      "cell_type": "code",
      "execution_count": null,
      "metadata": {
        "collapsed": false
      },
      "outputs": [],
      "source": [
        "%matplotlib inline"
      ]
    },
    {
      "cell_type": "markdown",
      "metadata": {},
      "source": [
        "\nCombine Tables\n~~~~~~~~~~~~~~\n\nThis example will demonstrate how to to merge to `vtkTable` objects with the\nsame number of rows into a single `vtkTable`.\n\nThis example demos :class:`PVGeo.filters.CombineTables`\n"
      ]
    },
    {
      "cell_type": "code",
      "execution_count": null,
      "metadata": {
        "collapsed": false
      },
      "outputs": [],
      "source": [
        "import numpy as np\nimport vtk\nfrom vtk.numpy_interface import dataset_adapter as dsa\nimport PVGeo\nfrom PVGeo.filters import CombineTables"
      ]
    },
    {
      "cell_type": "markdown",
      "metadata": {},
      "source": [
        "Create some input tables\n\n"
      ]
    },
    {
      "cell_type": "code",
      "execution_count": null,
      "metadata": {
        "collapsed": false
      },
      "outputs": [],
      "source": [
        "t0 = vtk.vtkTable()\nt1 = vtk.vtkTable()\n# Populate the tables\nn = 100\ntitles = ('Array 0', 'Array 1', 'Array 2')\narr0 = np.random.random(n) # Table 0\narr1 = np.random.random(n) # Table 0\nt0.AddColumn(PVGeo.convertArray(arr0, titles[0]))\nt0.AddColumn(PVGeo.convertArray(arr1, titles[1]))\narr2 = np.random.random(n) # Table 1\nt1.AddColumn(PVGeo.convertArray(arr2, titles[2]))\narrs = [arr0, arr1, arr2]"
      ]
    },
    {
      "cell_type": "code",
      "execution_count": null,
      "metadata": {
        "collapsed": false
      },
      "outputs": [],
      "source": [
        "# Now use the `CombineTables` filter:\noutput = CombineTables().apply(t0, t1)\n\n\n# Here I verify the result\nwpdi = dsa.WrapDataObject(output)\n\nfor i in range(len(titles)):\n    arr = wpdi.RowData[titles[i]]\n    assert(np.allclose(arr, arrs[i], rtol=0.0001))"
      ]
    }
  ],
  "metadata": {
    "kernelspec": {
      "display_name": "Python 3",
      "language": "python",
      "name": "python3"
    },
    "language_info": {
      "codemirror_mode": {
        "name": "ipython",
        "version": 3
      },
      "file_extension": ".py",
      "mimetype": "text/x-python",
      "name": "python",
      "nbconvert_exporter": "python",
      "pygments_lexer": "ipython3",
      "version": "3.7.1"
    }
  },
  "nbformat": 4,
  "nbformat_minor": 0
}
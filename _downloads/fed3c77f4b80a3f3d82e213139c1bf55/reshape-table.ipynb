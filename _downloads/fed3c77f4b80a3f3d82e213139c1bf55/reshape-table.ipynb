{
  "cells": [
    {
      "cell_type": "code",
      "execution_count": null,
      "metadata": {
        "collapsed": false
      },
      "outputs": [],
      "source": [
        "%matplotlib inline"
      ]
    },
    {
      "cell_type": "markdown",
      "metadata": {},
      "source": [
        "\nReshape Table\n~~~~~~~~~~~~~\n\nThis example will demonstrate how to reshape an input table as though it were a 2D array.\n\nThis filter will take a `vtkTable` object and reshape it. This filter essentially treats `vtkTable`s as 2D matrices and reshapes them using `numpy.reshape` in a C contiguous manner. Unfortunately, data fields will be renamed arbitrarily because VTK data arrays require a name.\n\nThis example demos :class:`PVGeo.filters.ReshapeTable`\n"
      ]
    },
    {
      "cell_type": "code",
      "execution_count": null,
      "metadata": {
        "collapsed": false
      },
      "outputs": [],
      "source": [
        "import numpy as np\nimport vtk\nfrom vtk.numpy_interface import dataset_adapter as dsa\nimport PVGeo\nfrom PVGeo.filters import ReshapeTable"
      ]
    },
    {
      "cell_type": "markdown",
      "metadata": {},
      "source": [
        "Create some input table\n\n"
      ]
    },
    {
      "cell_type": "code",
      "execution_count": null,
      "metadata": {
        "collapsed": false
      },
      "outputs": [],
      "source": [
        "t0 = vtk.vtkTable()\n# Populate the tables\narrs = [None, None, None]\nn = 400\nncols = 2\nnrows = int(n * len(arrs) / ncols)\ntitles = ('Array 0', 'Array 1', 'Array 2')\narrs[0] = np.random.random(n)\narrs[1] = np.random.random(n)\narrs[2] = np.random.random(n)\n\nt0.AddColumn(PVGeo.convert_array(arrs[0], titles[0]))\nt0.AddColumn(PVGeo.convert_array(arrs[1], titles[1]))\nt0.AddColumn(PVGeo.convert_array(arrs[2], titles[2]))"
      ]
    },
    {
      "cell_type": "markdown",
      "metadata": {},
      "source": [
        "Use the filter to reshape the table\n\n"
      ]
    },
    {
      "cell_type": "code",
      "execution_count": null,
      "metadata": {
        "collapsed": false
      },
      "outputs": [],
      "source": [
        "order = 'F'\nnewtitles = ['Title %d' % i for i in range(ncols)]\noutput = ReshapeTable(order=order,\n                      ncols=ncols,\n                      nrows=nrows,\n                      names=newtitles).apply(t0)"
      ]
    },
    {
      "cell_type": "markdown",
      "metadata": {},
      "source": [
        "Check the output against NumPy\n\n"
      ]
    },
    {
      "cell_type": "code",
      "execution_count": null,
      "metadata": {
        "collapsed": false
      },
      "outputs": [],
      "source": [
        "wpdi = dsa.WrapDataObject(output)\ntarr = np.zeros((nrows, ncols))\nfor i in range(ncols):\n    tarr[:,i] = wpdi.RowData[i]\narrs = np.array(arrs).T\narrs = arrs.flatten()\narrs = np.reshape(arrs, (nrows, ncols), order=order)\nassert(tarr.shape == arrs.shape)\nassert(np.allclose(tarr, arrs))"
      ]
    }
  ],
  "metadata": {
    "kernelspec": {
      "display_name": "Python 3",
      "language": "python",
      "name": "python3"
    },
    "language_info": {
      "codemirror_mode": {
        "name": "ipython",
        "version": 3
      },
      "file_extension": ".py",
      "mimetype": "text/x-python",
      "name": "python",
      "nbconvert_exporter": "python",
      "pygments_lexer": "ipython3",
      "version": "3.7.1"
    }
  },
  "nbformat": 4,
  "nbformat_minor": 0
}